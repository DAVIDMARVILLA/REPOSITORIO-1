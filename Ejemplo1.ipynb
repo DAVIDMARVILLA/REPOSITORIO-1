{
 "cells": [
  {
   "cell_type": "markdown",
   "metadata": {},
   "source": [
    "## ¿Qué es un lenguaje de programación?\n",
    "Tiene 50 o 60 años, se vincula en el siglo 18. Transmite ordenes a un computador por medio de un lenguaje (codigos binarios, etc)\n",
    "Existen mas de 100 lenguaje distintos de programación.\n",
    "\n",
    "## \"La claves no es entender los lenguajes dino aprender la lógica detrás de la programación, con esto puedes replicar en cualquier lenguaje\"\n",
    "Lady Ada (1815-1852): Matemática y escritoria, Primera pionera de la programación, ella propuso que se podia interactuar con máquinas para que hicieran tareas similares a la de los seres humanos.\n",
    "\n",
    "1979, primer lenguaje de programación (ADA).\n",
    "\n",
    "Lenguaje de programación orientado a objetos (Python). Hay métodos y funciones prediseñadas que nos ayudan. Es multiparadigma, diferentes focos. Tipado dinámico (En Java no). Aprendizaje automático. Big data. Data Sciense. Desarrollo web y de aplicaciones.\n",
    "\n",
    "Lenguaje de programación estructurado (Se crean desde el incio(C++))\n",
    "\n",
    "LENGUAJE DE ALTO NIVEL Y LENGUAJE DE BAJO NIVEL\n",
    "\n",
    "## Diferencia entre datos e información\n",
    "Información: Extracción de datos que contienen procesos.\n",
    "Datos: Registros, numeros.\n",
    "\n",
    "## Numeros\n",
    "Variables: Caja que contiene  información la cual se puede guardar numeros o letras.\n",
    "Ejm: Enteros (int). Flortantes (float): racionales e irracionales. Complejos (Complex). Booleanos (bool): 1 y 0, valores de verdad.\n",
    "\n",
    "## Operaciones\n",
    "## Suma\n"
   ]
  },
  {
   "cell_type": "code",
   "execution_count": 2,
   "metadata": {},
   "outputs": [
    {
     "name": "stdout",
     "output_type": "stream",
     "text": [
      "5\n"
     ]
    }
   ],
   "source": [
    "a=2\n",
    "b=3\n",
    "suma=a+b\n",
    "print(suma)"
   ]
  },
  {
   "cell_type": "markdown",
   "metadata": {},
   "source": [
    "## Resta"
   ]
  },
  {
   "cell_type": "code",
   "execution_count": 3,
   "metadata": {},
   "outputs": [
    {
     "name": "stdout",
     "output_type": "stream",
     "text": [
      "-1\n"
     ]
    }
   ],
   "source": [
    "diferencia=a-y\n",
    "print(diferencia)"
   ]
  }
 ],
 "metadata": {
  "kernelspec": {
   "display_name": "Python 3",
   "language": "python",
   "name": "python3"
  },
  "language_info": {
   "codemirror_mode": {
    "name": "ipython",
    "version": 3
   },
   "file_extension": ".py",
   "mimetype": "text/x-python",
   "name": "python",
   "nbconvert_exporter": "python",
   "pygments_lexer": "ipython3",
   "version": "3.10.13"
  }
 },
 "nbformat": 4,
 "nbformat_minor": 2
}
