{
 "cells": [
  {
   "cell_type": "markdown",
   "metadata": {},
   "source": [
    "## ¿Qué es un lenguaje de programación?\n",
    "Tiene 50 o 60 años, se vincula en el siglo 18. Transmite ordenes a un computador por medio de un lenguaje (codigos binarios, etc)\n",
    "Existen mas de 100 lenguaje distintos de programación.\n",
    "\n",
    "## \"La claves no es entender los lenguajes dino aprender la lógica detrás de la programación, con esto puedes replicar en cualquier lenguaje\"\n",
    "Lady Ada (1815-1852): Matemática y escritoria, Primera pionera de la programación, ella propuso que se podia interactuar con máquinas para que hicieran tareas similares a la de los seres humanos.\n",
    "\n",
    "1979, primer lenguaje de programación (ADA).\n",
    "\n",
    "Lenguaje de programación orientado a objetos (Python). Hay métodos y funciones prediseñadas que nos ayudan. Es multiparadigma, diferentes focos. Tipado dinámico (En Java no). Aprendizaje automático. Big data. Data Sciense. Desarrollo web y de aplicaciones.\n",
    "\n",
    "Lenguaje de programación estructurado (Se crean desde el incio(C++))\n",
    "\n",
    "LENGUAJE DE ALTO NIVEL Y LENGUAJE DE BAJO NIVEL\n",
    "\n",
    "## Diferencia entre datos e información\n",
    "Información: Extracción de datos que contienen procesos.\n",
    "Datos: Registros, numeros.\n",
    "\n",
    "## Numeros\n",
    "Variables: Caja que contiene  información la cual se puede guardar numeros o letras.\n",
    "Ejm: Enteros (int). Flortantes (float): racionales e irracionales. Complejos (Complex). Booleanos (bool): 1 y 0, valores de verdad.\n",
    "\n",
    "## Operaciones\n",
    "## Suma\n"
   ]
  },
  {
   "cell_type": "code",
   "execution_count": 2,
   "metadata": {},
   "outputs": [
    {
     "name": "stdout",
     "output_type": "stream",
     "text": [
      "5\n"
     ]
    }
   ],
   "source": [
    "a=2\n",
    "b=3\n",
    "suma=a+b\n",
    "print(suma)"
   ]
  },
  {
   "cell_type": "markdown",
   "metadata": {},
   "source": [
    "## Resta"
   ]
  },
  {
   "cell_type": "code",
   "execution_count": 3,
   "metadata": {},
   "outputs": [
    {
     "name": "stdout",
     "output_type": "stream",
     "text": [
      "-1\n"
     ]
    }
   ],
   "source": [
    "diferencia=a-b\n",
    "print(diferencia)"
   ]
  },
  {
   "cell_type": "markdown",
   "metadata": {},
   "source": [
    "## Multiplicación"
   ]
  },
  {
   "cell_type": "code",
   "execution_count": 11,
   "metadata": {},
   "outputs": [
    {
     "name": "stdout",
     "output_type": "stream",
     "text": [
      "1\n"
     ]
    }
   ],
   "source": [
    "producto=a*b\n",
    "print(producto)"
   ]
  },
  {
   "cell_type": "markdown",
   "metadata": {},
   "source": [
    "## División"
   ]
  },
  {
   "cell_type": "code",
   "execution_count": 13,
   "metadata": {},
   "outputs": [
    {
     "name": "stdout",
     "output_type": "stream",
     "text": [
      "1\n"
     ]
    }
   ],
   "source": [
    "division=a*b\n",
    "print(division)"
   ]
  },
  {
   "cell_type": "markdown",
   "metadata": {},
   "source": [
    "## Modulo"
   ]
  },
  {
   "cell_type": "code",
   "execution_count": 10,
   "metadata": {},
   "outputs": [
    {
     "name": "stdout",
     "output_type": "stream",
     "text": [
      "0\n"
     ]
    }
   ],
   "source": [
    "modulo=a%b\n",
    "print(modulo) "
   ]
  },
  {
   "cell_type": "markdown",
   "metadata": {},
   "source": [
    "## Operaciones booleanas"
   ]
  },
  {
   "cell_type": "code",
   "execution_count": 9,
   "metadata": {},
   "outputs": [
    {
     "name": "stdout",
     "output_type": "stream",
     "text": [
      "True\n",
      "True\n"
     ]
    }
   ],
   "source": [
    "a=True\n",
    "b=True\n",
    "print(a and b)\n",
    "print(a or b)"
   ]
  },
  {
   "cell_type": "markdown",
   "metadata": {},
   "source": [
    "## Como guardar el Archivo\n",
    "\n",
    "1.git status\n",
    "\n",
    "2.git add\n",
    "\n",
    "3.git commit -m\n",
    "\n",
    "4.git push -u origin main"
   ]
  },
  {
   "cell_type": "markdown",
   "metadata": {},
   "source": [
    "## Input"
   ]
  },
  {
   "cell_type": "code",
   "execution_count": null,
   "metadata": {},
   "outputs": [],
   "source": [
    "x=input()\n",
    "y=input"
   ]
  },
  {
   "cell_type": "markdown",
   "metadata": {},
   "source": [
    "## In y Input"
   ]
  },
  {
   "cell_type": "code",
   "execution_count": null,
   "metadata": {},
   "outputs": [],
   "source": [
    "x=int(input('coloque el primer numero'))\n",
    "y=int(input('coloque el segundo numero'))\n",
    "\n"
   ]
  },
  {
   "cell_type": "markdown",
   "metadata": {},
   "source": [
    "## Desafio"
   ]
  },
  {
   "cell_type": "code",
   "execution_count": 16,
   "metadata": {},
   "outputs": [
    {
     "name": "stdout",
     "output_type": "stream",
     "text": [
      "66\n",
      "3.3\n"
     ]
    }
   ],
   "source": [
    "\n",
    "colombia=int(input('coloque el puntaje de t'))\n",
    "argentina=int(input('coloque el puntaje de argentina'))\n",
    "brazil=int(input('coloque el puntaje de brazil'))\n",
    "canada=int(input('coloque el puntaje de canada'))\n",
    "venezuela=int(input('coloque el puntaje de venezuela'))\n",
    "sum=colombia+argentina+brazil+canada+venezuela\n",
    "print(sum)\n",
    "promedio=sum/20\n",
    "print(promedio)\n"
   ]
  },
  {
   "cell_type": "markdown",
   "metadata": {},
   "source": [
    "## Problema resuelto abajo"
   ]
  },
  {
   "cell_type": "code",
   "execution_count": 17,
   "metadata": {},
   "outputs": [
    {
     "name": "stdout",
     "output_type": "stream",
     "text": [
      "30\n",
      "1.5\n"
     ]
    }
   ],
   "source": [
    "ganó=3\n",
    "empató=1\n",
    "perdió=0\n",
    "\n",
    "partidos_jugados=int(input('coloque numero de partidos jugados'))\n",
    "i=int(input('coloque cuantas veces ganó su equipo'))*ganó\n",
    "o=int(input('coloque cuantas veces empató su equipo'))*empató\n",
    "sumaa=i+o\n",
    "print(sumaa)\n",
    "\n",
    "promedio=sumaa/partidos_jugados\n",
    "print(promedio)\n",
    "\n"
   ]
  },
  {
   "cell_type": "markdown",
   "metadata": {},
   "source": [
    "## Strings, cadenas de texto"
   ]
  },
  {
   "cell_type": "code",
   "execution_count": 18,
   "metadata": {},
   "outputs": [
    {
     "name": "stdout",
     "output_type": "stream",
     "text": [
      "hello word\n"
     ]
    }
   ],
   "source": [
    "cadena1='hello word'\n",
    "print(cadena1)"
   ]
  },
  {
   "cell_type": "code",
   "execution_count": 20,
   "metadata": {},
   "outputs": [
    {
     "name": "stdout",
     "output_type": "stream",
     "text": [
      "I am here\n"
     ]
    }
   ],
   "source": [
    "cadena2='I am here'\n",
    "print(cadena2)"
   ]
  },
  {
   "cell_type": "code",
   "execution_count": 22,
   "metadata": {},
   "outputs": [
    {
     "name": "stdout",
     "output_type": "stream",
     "text": [
      "['h', 'e', 'l', 'l', 'o', ' ', 'w', 'o', 'r', 'd']\n"
     ]
    }
   ],
   "source": [
    "lista=list(cadena1)\n",
    "\n",
    "print(lista)"
   ]
  },
  {
   "cell_type": "code",
   "execution_count": null,
   "metadata": {},
   "outputs": [],
   "source": [
    "x=int(input('ingrese un numero'))\n",
    "\n",
    "if x<5 or x-5:\n",
    "    print"
   ]
  },
  {
   "cell_type": "code",
   "execution_count": null,
   "metadata": {},
   "outputs": [],
   "source": [
    "x=int(input('ingrese un numero'))\n",
    "\n",
    "if x<5:\n",
    "    print(x, )"
   ]
  },
  {
   "cell_type": "markdown",
   "metadata": {},
   "source": [
    "## Bucle for"
   ]
  },
  {
   "cell_type": "code",
   "execution_count": 25,
   "metadata": {},
   "outputs": [
    {
     "name": "stdout",
     "output_type": "stream",
     "text": [
      "3\n",
      "6\n",
      "9\n",
      "12\n",
      "15\n",
      "18\n",
      "21\n",
      "24\n",
      "27\n",
      "30\n"
     ]
    }
   ],
   "source": [
    "listanumeros=[1,2,3,4,5,6,7,8,9,10]\n",
    "for numero in listanumeros:\n",
    "    a=numero*3\n",
    "    print(a)"
   ]
  }
 ],
 "metadata": {
  "kernelspec": {
   "display_name": "Python 3",
   "language": "python",
   "name": "python3"
  },
  "language_info": {
   "codemirror_mode": {
    "name": "ipython",
    "version": 3
   },
   "file_extension": ".py",
   "mimetype": "text/x-python",
   "name": "python",
   "nbconvert_exporter": "python",
   "pygments_lexer": "ipython3",
   "version": "3.10.13"
  }
 },
 "nbformat": 4,
 "nbformat_minor": 2
}
