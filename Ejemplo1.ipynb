{
 "cells": [
  {
   "cell_type": "markdown",
   "metadata": {},
   "source": [
    "## ¿Qué es un lenguaje de programación?\n",
    "Tiene 50 o 60 años, se vincula en el siglo 18. Transmite ordenes a un computador por medio de un lenguaje (codigos binarios, etc)\n",
    "Existen mas de 100 lenguaje distintos de programación.\n",
    "\n",
    "## \"La claves no es entender los lenguajes dino aprender la lógica detrás de la programación, con esto puedes replicar en cualquier lenguaje\"\n",
    "Lady Ada (1815-1852): Matemática y escritoria, Primera pionera de la programación, ella propuso que se podia interactuar con máquinas para que hicieran tareas similares a la de los seres humanos.\n",
    "\n",
    "1979, primer lenguaje de programación (ADA).\n",
    "\n",
    "Lenguaje de programación orientado a objetos (Python). Hay métodos y funciones prediseñadas que nos ayudan. Es multiparadigma, diferentes focos. Tipado dinámico (En Java no). Aprendizaje automático. Big data. Data Sciense. Desarrollo web y de aplicaciones.\n",
    "\n",
    "Lenguaje de programación estructurado (Se crean desde el incio(C++))\n",
    "\n",
    "LENGUAJE DE ALTO NIVEL Y LENGUAJE DE BAJO NIVEL\n",
    "\n",
    "## Diferencia entre datos e información\n",
    "Información: Extracción de datos que contienen procesos.\n",
    "Datos: Registros, numeros.\n",
    "\n",
    "## Numeros\n",
    "Variables: Caja que contiene  información la cual se puede guardar numeros o letras.\n",
    "Ejm: Enteros (int). Flortantes (float): racionales e irracionales. Complejos (Complex). Booleanos (bool): 1 y 0, valores de verdad.\n",
    "\n",
    "## Operaciones\n",
    "## Suma\n"
   ]
  },
  {
   "cell_type": "code",
   "execution_count": 42,
   "metadata": {},
   "outputs": [
    {
     "ename": "TypeError",
     "evalue": "'int' object is not callable",
     "output_type": "error",
     "traceback": [
      "\u001b[0;31m---------------------------------------------------------------------------\u001b[0m",
      "\u001b[0;31mTypeError\u001b[0m                                 Traceback (most recent call last)",
      "Cell \u001b[0;32mIn[42], line 4\u001b[0m\n\u001b[1;32m      2\u001b[0m y\u001b[38;5;241m=\u001b[39m\u001b[38;5;241m3\u001b[39m\n\u001b[1;32m      3\u001b[0m suma\u001b[38;5;241m=\u001b[39mx\u001b[38;5;241m+\u001b[39my\n\u001b[0;32m----> 4\u001b[0m \u001b[38;5;28;43mprint\u001b[39;49m\u001b[43m(\u001b[49m\u001b[43msuma\u001b[49m\u001b[43m)\u001b[49m\n",
      "\u001b[0;31mTypeError\u001b[0m: 'int' object is not callable"
     ]
    }
   ],
   "source": [
    "x=2\n",
    "y=3\n",
    "suma=x+y"
   ]
  },
  {
   "cell_type": "markdown",
   "metadata": {},
   "source": [
    "## Resta"
   ]
  },
  {
   "cell_type": "code",
   "execution_count": 34,
   "metadata": {},
   "outputs": [
    {
     "ename": "TypeError",
     "evalue": "'int' object is not callable",
     "output_type": "error",
     "traceback": [
      "\u001b[0;31m---------------------------------------------------------------------------\u001b[0m",
      "\u001b[0;31mTypeError\u001b[0m                                 Traceback (most recent call last)",
      "Cell \u001b[0;32mIn[34], line 2\u001b[0m\n\u001b[1;32m      1\u001b[0m resta\u001b[38;5;241m=\u001b[39mx\u001b[38;5;241m-\u001b[39my\n\u001b[0;32m----> 2\u001b[0m \u001b[38;5;28;43mprint\u001b[39;49m\u001b[43m(\u001b[49m\u001b[43mresta\u001b[49m\u001b[43m)\u001b[49m\n",
      "\u001b[0;31mTypeError\u001b[0m: 'int' object is not callable"
     ]
    }
   ],
   "source": [
    "resta=x-y\n",
    "print(resta)"
   ]
  }
 ],
 "metadata": {
  "kernelspec": {
   "display_name": "Python 3",
   "language": "python",
   "name": "python3"
  },
  "language_info": {
   "codemirror_mode": {
    "name": "ipython",
    "version": 3
   },
   "file_extension": ".py",
   "mimetype": "text/x-python",
   "name": "python",
   "nbconvert_exporter": "python",
   "pygments_lexer": "ipython3",
   "version": "3.10.13"
  }
 },
 "nbformat": 4,
 "nbformat_minor": 2
}
