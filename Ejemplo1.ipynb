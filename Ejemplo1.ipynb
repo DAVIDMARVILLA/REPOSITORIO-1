{
 "cells": [
  {
   "cell_type": "markdown",
   "metadata": {},
   "source": [
    "## ¿Qué es un lenguaje de programación?\n",
    "Tiene 50 o 60 años, se vincula en el siglo 18. Transmite ordenes a un computador por medio de un lenguaje (codigos binarios, etc)\n",
    "Existen mas de 100 lenguaje distintos de programación.\n",
    "\n",
    "## \"La claves no es entender los lenguajes dino aprender la lógica detrás de la programación, con esto puedes replicar en cualquier lenguaje\"\n",
    "Lady Ada (1815-1852): Matemática y escritoria, Primera pionera de la programación, ella propuso que se podia interactuar con máquinas para que hicieran tareas similares a la de los seres humanos.\n",
    "\n",
    "1979, primer lenguaje de programación (ADA).\n",
    "\n",
    "Lenguaje de programación orientado a objetos (Python). Hay métodos y funciones prediseñadas que nos ayudan. Es multiparadigma, diferentes focos. Tipado dinámico (En Java no). Aprendizaje automático. Big data. Data Sciense. Desarrollo web y de aplicaciones.\n",
    "\n",
    "Lenguaje de programación estructurado (Se crean desde el incio(C++))\n",
    "\n",
    "LENGUAJE DE ALTO NIVEL Y LENGUAJE DE BAJO NIVEL\n",
    "\n",
    "## Diferencia entre datos e información\n",
    "Información: Extracción de datos que contienen procesos.\n",
    "Datos: Registros, numeros.\n",
    "\n",
    "## Numeros\n",
    "Variables: Caja que contiene  información la cual se puede guardar numeros o letras.\n",
    "Ejm: Enteros (int). Flortantes (float): racionales e irracionales. Complejos (Complex). Booleanos (bool): 1 y 0, valores de verdad.\n",
    "\n",
    "## Operaciones\n",
    "## Suma\n"
   ]
  },
  {
   "cell_type": "code",
   "execution_count": 2,
   "metadata": {},
   "outputs": [
    {
     "name": "stdout",
     "output_type": "stream",
     "text": [
      "5\n"
     ]
    }
   ],
   "source": [
    "a=2\n",
    "b=3\n",
    "suma=a+b\n",
    "print(suma)"
   ]
  },
  {
   "cell_type": "markdown",
   "metadata": {},
   "source": [
    "## Resta"
   ]
  },
  {
   "cell_type": "code",
   "execution_count": 3,
   "metadata": {},
   "outputs": [
    {
     "name": "stdout",
     "output_type": "stream",
     "text": [
      "-1\n"
     ]
    }
   ],
   "source": [
    "diferencia=a-b\n",
    "print(diferencia)"
   ]
  },
  {
   "cell_type": "markdown",
   "metadata": {},
   "source": [
    "## Multiplicación"
   ]
  },
  {
   "cell_type": "code",
   "execution_count": 11,
   "metadata": {},
   "outputs": [
    {
     "name": "stdout",
     "output_type": "stream",
     "text": [
      "1\n"
     ]
    }
   ],
   "source": [
    "producto=a*b\n",
    "print(producto)"
   ]
  },
  {
   "cell_type": "markdown",
   "metadata": {},
   "source": [
    "## División"
   ]
  },
  {
   "cell_type": "code",
   "execution_count": 13,
   "metadata": {},
   "outputs": [
    {
     "name": "stdout",
     "output_type": "stream",
     "text": [
      "1\n"
     ]
    }
   ],
   "source": [
    "division=a*b\n",
    "print(division)"
   ]
  },
  {
   "cell_type": "markdown",
   "metadata": {},
   "source": [
    "## Modulo"
   ]
  },
  {
   "cell_type": "code",
   "execution_count": 10,
   "metadata": {},
   "outputs": [
    {
     "name": "stdout",
     "output_type": "stream",
     "text": [
      "0\n"
     ]
    }
   ],
   "source": [
    "modulo=a%b\n",
    "print(modulo) "
   ]
  },
  {
   "cell_type": "markdown",
   "metadata": {},
   "source": [
    "## Operaciones booleanas"
   ]
  },
  {
   "cell_type": "code",
   "execution_count": 9,
   "metadata": {},
   "outputs": [
    {
     "name": "stdout",
     "output_type": "stream",
     "text": [
      "True\n",
      "True\n"
     ]
    }
   ],
   "source": [
    "a=True\n",
    "b=True\n",
    "print(a and b)\n",
    "print(a or b)"
   ]
  },
  {
   "cell_type": "markdown",
   "metadata": {},
   "source": [
    "## Como guardar el Archivo\n",
    "\n",
    "1.git status\n",
    "\n",
    "2.git add\n",
    "\n",
    "3.git commit -m\n",
    "\n",
    "4.git push -u origin main"
   ]
  },
  {
   "cell_type": "markdown",
   "metadata": {},
   "source": [
    "## Input"
   ]
  },
  {
   "cell_type": "code",
   "execution_count": null,
   "metadata": {},
   "outputs": [],
   "source": [
    "x=input()\n",
    "y=input"
   ]
  },
  {
   "cell_type": "markdown",
   "metadata": {},
   "source": [
    "## In y Input"
   ]
  },
  {
   "cell_type": "code",
   "execution_count": null,
   "metadata": {},
   "outputs": [],
   "source": [
    "x=int(input('coloque el primer numero'))\n",
    "y=int(input('coloque el segundo numero'))\n",
    "\n"
   ]
  },
  {
   "cell_type": "markdown",
   "metadata": {},
   "source": [
    "## Desafio"
   ]
  },
  {
   "cell_type": "code",
   "execution_count": 16,
   "metadata": {},
   "outputs": [
    {
     "name": "stdout",
     "output_type": "stream",
     "text": [
      "66\n",
      "3.3\n"
     ]
    }
   ],
   "source": [
    "\n",
    "colombia=int(input('coloque el puntaje de t'))\n",
    "argentina=int(input('coloque el puntaje de argentina'))\n",
    "brazil=int(input('coloque el puntaje de brazil'))\n",
    "canada=int(input('coloque el puntaje de canada'))\n",
    "venezuela=int(input('coloque el puntaje de venezuela'))\n",
    "sum=colombia+argentina+brazil+canada+venezuela\n",
    "print(sum)\n",
    "promedio=sum/20\n",
    "print(promedio)\n"
   ]
  },
  {
   "cell_type": "markdown",
   "metadata": {},
   "source": [
    "## Problema resuelto abajo"
   ]
  },
  {
   "cell_type": "code",
   "execution_count": 17,
   "metadata": {},
   "outputs": [
    {
     "name": "stdout",
     "output_type": "stream",
     "text": [
      "30\n",
      "1.5\n"
     ]
    }
   ],
   "source": [
    "ganó=3\n",
    "empató=1\n",
    "perdió=0\n",
    "\n",
    "partidos_jugados=int(input('coloque numero de partidos jugados'))\n",
    "i=int(input('coloque cuantas veces ganó su equipo'))*ganó\n",
    "o=int(input('coloque cuantas veces empató su equipo'))*empató\n",
    "sumaa=i+o\n",
    "print(sumaa)\n",
    "\n",
    "promedio=sumaa/partidos_jugados\n",
    "print(promedio)\n",
    "\n"
   ]
  },
  {
   "cell_type": "markdown",
   "metadata": {},
   "source": [
    "## Strings, cadenas de texto"
   ]
  },
  {
   "cell_type": "code",
   "execution_count": 18,
   "metadata": {},
   "outputs": [
    {
     "name": "stdout",
     "output_type": "stream",
     "text": [
      "hello word\n"
     ]
    }
   ],
   "source": [
    "cadena1='hello word'\n",
    "print(cadena1)"
   ]
  },
  {
   "cell_type": "code",
   "execution_count": 20,
   "metadata": {},
   "outputs": [
    {
     "name": "stdout",
     "output_type": "stream",
     "text": [
      "I am here\n"
     ]
    }
   ],
   "source": [
    "cadena2='I am here'\n",
    "print(cadena2)"
   ]
  },
  {
   "cell_type": "code",
   "execution_count": 22,
   "metadata": {},
   "outputs": [
    {
     "name": "stdout",
     "output_type": "stream",
     "text": [
      "['h', 'e', 'l', 'l', 'o', ' ', 'w', 'o', 'r', 'd']\n"
     ]
    }
   ],
   "source": [
    "lista=list(cadena1)\n",
    "\n",
    "print(lista)"
   ]
  },
  {
   "cell_type": "code",
   "execution_count": null,
   "metadata": {},
   "outputs": [],
   "source": [
    "x=int(input('ingrese un numero'))\n",
    "\n",
    "if x<5 or x-5:\n",
    "    print"
   ]
  },
  {
   "cell_type": "code",
   "execution_count": null,
   "metadata": {},
   "outputs": [],
   "source": [
    "x=int(input('ingrese un numero'))\n",
    "\n",
    "if x<5:\n",
    "    print(x, )"
   ]
  },
  {
   "cell_type": "markdown",
   "metadata": {},
   "source": [
    "## Bucle for"
   ]
  },
  {
   "cell_type": "code",
   "execution_count": 25,
   "metadata": {},
   "outputs": [
    {
     "name": "stdout",
     "output_type": "stream",
     "text": [
      "3\n",
      "6\n",
      "9\n",
      "12\n",
      "15\n",
      "18\n",
      "21\n",
      "24\n",
      "27\n",
      "30\n"
     ]
    }
   ],
   "source": [
    "listanumeros=[1,2,3,4,5,6,7,8,9,10]\n",
    "for numero in listanumeros:\n",
    "    a=numero*3\n",
    "    print(a)"
   ]
  },
  {
   "cell_type": "markdown",
   "metadata": {},
   "source": [
    "## Problemas Propuestos\n",
    "\n",
    "## 1."
   ]
  },
  {
   "cell_type": "code",
   "execution_count": 31,
   "metadata": {},
   "outputs": [
    {
     "name": "stdout",
     "output_type": "stream",
     "text": [
      "Error: ha ingresado un caracter que no es numericamente entero, porfavor igrese otro valor numérico\n"
     ]
    }
   ],
   "source": [
    "try:\n",
    "    x=int(input(\"Ingrese un cualquier numero entero\"))\n",
    "    if x>0:\n",
    "        print( x,\"es un numero es positivo\")\n",
    "    elif x<0:\n",
    "        print( x,\"es un numero negativo\")\n",
    "    else:\n",
    "        print( x,\"es igual a 0\")\n",
    "except ValueError:\n",
    "    print('Error: ha ingresado un caracter que no es numericamente entero, porfavor igrese otro valor numérico')"
   ]
  },
  {
   "cell_type": "markdown",
   "metadata": {},
   "source": [
    "## 2."
   ]
  },
  {
   "cell_type": "code",
   "execution_count": 17,
   "metadata": {},
   "outputs": [
    {
     "name": "stdout",
     "output_type": "stream",
     "text": [
      "4 x 1 = 4\n",
      "4 x 2 = 8\n",
      "4 x 3 = 12\n",
      "4 x 4 = 16\n",
      "4 x 5 = 20\n",
      "4 x 6 = 24\n",
      "4 x 7 = 28\n",
      "4 x 8 = 32\n",
      "4 x 9 = 36\n"
     ]
    }
   ],
   "source": [
    "def listadenumeros(numero):\n",
    "    for a in range (1,10):\n",
    "        resultado= numero * a\n",
    "        print (f\"{numero} x {a} = {resultado}\")\n",
    "    \n",
    "listadenumeros(4)"
   ]
  },
  {
   "cell_type": "markdown",
   "metadata": {},
   "source": [
    "## Ejercicio de Práctica"
   ]
  },
  {
   "cell_type": "code",
   "execution_count": 16,
   "metadata": {},
   "outputs": [
    {
     "name": "stdout",
     "output_type": "stream",
     "text": [
      "4*2\n",
      "4\n",
      "4*2\n",
      "8\n",
      "4*2\n",
      "12\n",
      "4*2\n",
      "16\n",
      "4*2\n",
      "20\n",
      "4*2\n",
      "24\n",
      "4*2\n",
      "28\n",
      "4*2\n",
      "32\n",
      "4*2\n",
      "36\n",
      "4*2\n",
      "40\n"
     ]
    }
   ],
   "source": []
  },
  {
   "cell_type": "code",
   "execution_count": 1,
   "metadata": {},
   "outputs": [
    {
     "name": "stdout",
     "output_type": "stream",
     "text": [
      "15 x 1 = 15\n",
      "15 x 2 = 30\n",
      "15 x 3 = 45\n",
      "15 x 4 = 60\n",
      "15 x 5 = 75\n",
      "15 x 6 = 90\n",
      "15 x 7 = 105\n",
      "15 x 8 = 120\n",
      "15 x 9 = 135\n"
     ]
    }
   ],
   "source": [
    "def listadenumeros(numero):\n",
    "    for a in range (1,10):\n",
    "        resultado= numero * a\n",
    "        print (f\"{numero} x {a} = {resultado}\")\n",
    "    \n",
    "listadenumeros(int(input(\"Ingrese un cualquier numero entero\")))\n"
   ]
  },
  {
   "cell_type": "code",
   "execution_count": 5,
   "metadata": {},
   "outputs": [
    {
     "name": "stdout",
     "output_type": "stream",
     "text": [
      "2 no es multiplo de 5\n"
     ]
    }
   ],
   "source": [
    "def listadenumeros(numero):\n",
    "    for a in range (1,100):\n",
    "        resultado= (a**numero+1)%(5)\n",
    "    if resultado==0:\n",
    "        print(resultado,'es multiplo de 5')\n",
    "    else:\n",
    "        print (resultado,'no es multiplo de 5')\n",
    "\n",
    "listadenumeros(2)"
   ]
  },
  {
   "cell_type": "code",
   "execution_count": 8,
   "metadata": {},
   "outputs": [
    {
     "ename": "TypeError",
     "evalue": "'b' is an invalid keyword argument for int()",
     "output_type": "error",
     "traceback": [
      "\u001b[0;31m---------------------------------------------------------------------------\u001b[0m",
      "\u001b[0;31mTypeError\u001b[0m                                 Traceback (most recent call last)",
      "Cell \u001b[0;32mIn[8], line 2\u001b[0m\n\u001b[1;32m      1\u001b[0m \u001b[38;5;28;01mfor\u001b[39;00m b \u001b[38;5;129;01min\u001b[39;00m \u001b[38;5;28mrange\u001b[39m (\u001b[38;5;241m1\u001b[39m, \u001b[38;5;241m100\u001b[39m):\n\u001b[0;32m----> 2\u001b[0m     x\u001b[38;5;241m=\u001b[39m\u001b[38;5;28;43mint\u001b[39;49m\u001b[43m(\u001b[49m\u001b[43mb\u001b[49m\u001b[38;5;241;43m=\u001b[39;49m\u001b[38;5;241;43m5\u001b[39;49m\u001b[43m)\u001b[49m\n\u001b[1;32m      3\u001b[0m \u001b[38;5;28mprint\u001b[39m(x)\n",
      "\u001b[0;31mTypeError\u001b[0m: 'b' is an invalid keyword argument for int()"
     ]
    }
   ],
   "source": [
    "for b in range (1, 100):\n",
    "    x=int(b=5)\n",
    "print(x)"
   ]
  }
 ],
 "metadata": {
  "kernelspec": {
   "display_name": "Python 3",
   "language": "python",
   "name": "python3"
  },
  "language_info": {
   "codemirror_mode": {
    "name": "ipython",
    "version": 3
   },
   "file_extension": ".py",
   "mimetype": "text/x-python",
   "name": "python",
   "nbconvert_exporter": "python",
   "pygments_lexer": "ipython3",
   "version": "3.10.13"
  }
 },
 "nbformat": 4,
 "nbformat_minor": 2
}
